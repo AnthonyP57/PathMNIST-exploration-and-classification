{
 "cells": [
  {
   "cell_type": "code",
   "execution_count": null,
   "metadata": {
    "executionInfo": {
     "elapsed": 10766,
     "status": "ok",
     "timestamp": 1704643316865,
     "user": {
      "displayName": "Arindam Halder",
      "userId": "00833290691596095305"
     },
     "user_tz": -330
    },
    "id": "aulsN4-ke0uB"
   },
   "outputs": [],
   "source": [
    "import torch\n",
    "from transformers import ViTImageProcessor, ViTForImageClassification, TrainingArguments"
   ]
  },
  {
   "cell_type": "code",
   "execution_count": null,
   "metadata": {},
   "outputs": [],
   "source": [
    "if torch.cuda.is_available():\n",
    "    device = torch.device(\"cuda:0\")\n",
    "    print(torch.cuda.get_device_name(0))\n",
    "    print(torch.cuda.get_device_properties(0))\n",
    "else:\n",
    "    device = torch.device(\"cpu\")\n",
    "    print(\"using CPU, GPU is not available\")"
   ]
  },
  {
   "cell_type": "code",
   "execution_count": null,
   "metadata": {
    "id": "Mf3evPGHe4hM"
   },
   "outputs": [],
   "source": [
    "model_name = \"google/vit-base-patch16-224\"\n",
    "image_processor = ViTImageProcessor.from_pretrained(model_name)\n",
    "model = ViTForImageClassification.from_pretrained(model_name)"
   ]
  },
  {
   "cell_type": "markdown",
   "metadata": {
    "id": "169OyzHUfIvh"
   },
   "source": [
    "**Load Dataset**"
   ]
  },
  {
   "cell_type": "code",
   "execution_count": null,
   "metadata": {
    "id": "IaZEFMaadshy"
   },
   "outputs": [],
   "source": [
    "from dataset import GetMedMNIST\n",
    "\n",
    "d_size = 224\n",
    "\n",
    "train_dataloader = GetMedMNIST(name='BloodMNIST', split='train', size=d_size)\n",
    "valid_dataloader = GetMedMNIST(name='BloodMNIST', split='val', size=d_size, verbose=False)\n",
    "test_dataloader = GetMedMNIST(name='BloodMNIST', split='train', size=d_size, verbose=False)"
   ]
  },
  {
   "cell_type": "code",
   "execution_count": null,
   "metadata": {
    "id": "e9YzpO5-gSQf"
   },
   "outputs": [],
   "source": [
    "model = ViTForImageClassification.from_pretrained(\n",
    "    model_name,\n",
    "    num_labels=train_dataloader.n_classes,\n",
    "    id2label={str(i): c for i, c in enumerate(train_dataloader.label_str)},\n",
    "    label2id={c: str(i) for i, c in enumerate(train_dataloader.label_str)},\n",
    "    ignore_mismatched_sizes=True,\n",
    ")"
   ]
  },
  {
   "cell_type": "code",
   "execution_count": null,
   "metadata": {
    "executionInfo": {
     "elapsed": 8,
     "status": "ok",
     "timestamp": 1704643390980,
     "user": {
      "displayName": "Arindam Halder",
      "userId": "00833290691596095305"
     },
     "user_tz": -330
    },
    "id": "IRAvihPzgmVP"
   },
   "outputs": [],
   "source": [
    "training_args = TrainingArguments(\n",
    "  output_dir=\"./BloodMNIST_ViT\",\n",
    "  per_device_train_batch_size=32,\n",
    "  evaluation_strategy=\"steps\",\n",
    "  num_train_epochs=10,\n",
    "  fp16=True,\n",
    "  save_steps=374,\n",
    "  eval_steps=374,\n",
    "  logging_steps=374,\n",
    "  save_total_limit=2,\n",
    "  remove_unused_columns=False,\n",
    "  push_to_hub=False,\n",
    "  report_to='tensorboard',\n",
    "  load_best_model_at_end=True,\n",
    ")\n"
   ]
  },
  {
   "cell_type": "code",
   "execution_count": null,
   "metadata": {},
   "outputs": [],
   "source": [
    "from evaluate import load\n",
    "import numpy as np\n",
    "\n",
    "accuracy = load(\"accuracy\")\n",
    "f1 = load(\"f1\")\n",
    "\n",
    "def compute_metrics(eval_pred):\n",
    "  accuracy_score = accuracy.compute(predictions=np.argmax(eval_pred.predictions, axis=1), references=eval_pred.label_ids)\n",
    "  f1_score = f1.compute(predictions=np.argmax(eval_pred.predictions, axis=1), references=eval_pred.label_ids, average=\"weighted\")\n",
    "  return {**accuracy_score, **f1_score}\n",
    "     "
   ]
  },
  {
   "cell_type": "code",
   "execution_count": null,
   "metadata": {
    "executionInfo": {
     "elapsed": 646,
     "status": "ok",
     "timestamp": 1704643391620,
     "user": {
      "displayName": "Arindam Halder",
      "userId": "00833290691596095305"
     },
     "user_tz": -330
    },
    "id": "kxPSW0jshANG"
   },
   "outputs": [],
   "source": [
    "from transformers import Trainer\n",
    "\n",
    "trainer = Trainer(\n",
    "    model=model,\n",
    "    args=training_args,\n",
    "    compute_metrics=compute_metrics,\n",
    "    train_dataset=train_dataloader,\n",
    "    eval_dataset=valid_dataloader,\n",
    "    tokenizer=image_processor\n",
    ")"
   ]
  },
  {
   "cell_type": "code",
   "execution_count": null,
   "metadata": {
    "colab": {
     "base_uri": "https://localhost:8080/",
     "height": 423
    },
    "executionInfo": {
     "elapsed": 4910937,
     "status": "ok",
     "timestamp": 1704648302951,
     "user": {
      "displayName": "Arindam Halder",
      "userId": "00833290691596095305"
     },
     "user_tz": -330
    },
    "id": "pp9POUJzhRIr",
    "outputId": "e5175ee6-3774-40de-ea72-39c745f38115"
   },
   "outputs": [],
   "source": [
    "trainer.train()"
   ]
  },
  {
   "cell_type": "code",
   "execution_count": null,
   "metadata": {
    "colab": {
     "base_uri": "https://localhost:8080/",
     "height": 158
    },
    "executionInfo": {
     "elapsed": 54360,
     "status": "ok",
     "timestamp": 1704648357290,
     "user": {
      "displayName": "Arindam Halder",
      "userId": "00833290691596095305"
     },
     "user_tz": -330
    },
    "id": "sIp2EtkQhStq",
    "outputId": "db1ca3b5-8428-4e21-8178-b58e5cd55cd8"
   },
   "outputs": [],
   "source": [
    "trainer.evaluate(test_dataloader)"
   ]
  },
  {
   "cell_type": "code",
   "execution_count": null,
   "metadata": {},
   "outputs": [],
   "source": [
    "outputs = trainer.predict(test_dataloader)\n",
    "y_true = outputs.label_ids\n",
    "y_pred = outputs.predictions.argmax(1)"
   ]
  },
  {
   "cell_type": "markdown",
   "metadata": {
    "id": "sqLvICvqY5Vi"
   },
   "source": [
    "**Evaluation with Confusion Matrix**"
   ]
  },
  {
   "cell_type": "markdown",
   "metadata": {
    "id": "dlHCewUTiUd7"
   },
   "source": [
    "**Generate Precision, Recall, F1 Score, Support**"
   ]
  },
  {
   "cell_type": "markdown",
   "metadata": {
    "id": "WkUnnlD7pX-L"
   },
   "source": [
    "**Generate Training & Loss Curves**"
   ]
  },
  {
   "cell_type": "code",
   "execution_count": null,
   "metadata": {
    "colab": {
     "base_uri": "https://localhost:8080/",
     "height": 388
    },
    "executionInfo": {
     "elapsed": 20,
     "status": "ok",
     "timestamp": 1704648412226,
     "user": {
      "displayName": "Arindam Halder",
      "userId": "00833290691596095305"
     },
     "user_tz": -330
    },
    "id": "wQtTE8SApYp4",
    "outputId": "34cfd520-7f59-4230-b382-06cc005fdffb"
   },
   "outputs": [],
   "source": [
    "import matplotlib.pyplot as plt\n",
    "\n",
    "data = trainer.state.log_history\n",
    "epochs = [entry['epoch'] for entry in data]\n",
    "train_losses = [entry['loss'] for entry in data if 'loss' in entry]\n",
    "eval_losses = [entry['eval_loss'] for entry in data if 'eval_loss' in entry]\n",
    "plt.figure(figsize=(6, 4))\n",
    "\n",
    "plt.plot(epochs[:len(train_losses)], train_losses, label='Training Loss')\n",
    "plt.plot(epochs[:len(eval_losses)], eval_losses, label='Validation Loss')\n",
    "\n",
    "plt.xlabel('Epoch')\n",
    "plt.ylabel('Loss')\n",
    "plt.legend()\n",
    "plt.show()"
   ]
  },
  {
   "cell_type": "markdown",
   "metadata": {
    "id": "pbQSXX1npc00"
   },
   "source": [
    "**Plot ROC Curves**"
   ]
  },
  {
   "cell_type": "code",
   "execution_count": null,
   "metadata": {
    "colab": {
     "base_uri": "https://localhost:8080/",
     "height": 388
    },
    "executionInfo": {
     "elapsed": 23,
     "status": "ok",
     "timestamp": 1704648413584,
     "user": {
      "displayName": "Arindam Halder",
      "userId": "00833290691596095305"
     },
     "user_tz": -330
    },
    "id": "HshAwXR8pjb6",
    "outputId": "04c321dc-4302-4d4b-a807-685d2134c074"
   },
   "outputs": [],
   "source": [
    "from sklearn.metrics import roc_curve, auc, roc_auc_score\n",
    "import matplotlib.pyplot as plt\n",
    "import numpy as np\n",
    "\n",
    "true_labels = outputs.label_ids\n",
    "predictions = outputs.predictions\n",
    "\n",
    "roc_score = roc_auc_score(true_labels, predictions)\n",
    "\n",
    "num_classes = predictions.shape[1]\n",
    "fpr = dict()\n",
    "tpr = dict()\n",
    "roc_auc = dict()\n",
    "\n",
    "for i in range(num_classes):\n",
    "    fpr[i], tpr[i], _ = roc_curve((true_labels == i).astype(int), predictions[:, i])\n",
    "    roc_auc[i] = auc(fpr[i], tpr[i])\n",
    "\n",
    "plt.figure(figsize=(6, 4))\n",
    "\n",
    "for i in range(num_classes):\n",
    "    plt.plot(fpr[i], tpr[i], lw=2, label='ROC curve (class %d) (AUC = %0.5f)' % (i, roc_auc[i]))\n",
    "\n",
    "plt.plot([0, 1], [0, 1], color='navy', lw=2, linestyle='--')\n",
    "plt.xlim([0.0, 1.0])\n",
    "plt.ylim([0.0, 1.05])\n",
    "plt.xlabel('False Positive Rate')\n",
    "plt.ylabel('True Positive Rate')\n",
    "plt.legend(loc=\"lower right\")\n",
    "plt.show()"
   ]
  }
 ],
 "metadata": {
  "accelerator": "GPU",
  "colab": {
   "authorship_tag": "ABX9TyPgLJnDk89Q/FJgLGiN1P7p",
   "gpuType": "T4",
   "provenance": [
    {
     "file_id": "1Kd5ONL_Btmg70umnDOaNxxnlDE8MTLXx",
     "timestamp": 1697286429201
    }
   ]
  },
  "kernelspec": {
   "display_name": "Python 3",
   "name": "python3"
  },
  "language_info": {
   "name": "python"
  }
 },
 "nbformat": 4,
 "nbformat_minor": 0
}
